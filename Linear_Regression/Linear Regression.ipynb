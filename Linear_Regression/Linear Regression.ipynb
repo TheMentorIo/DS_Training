{
 "cells": [
  {
   "cell_type": "code",
   "id": "initial_id",
   "metadata": {
    "collapsed": true,
    "ExecuteTime": {
     "end_time": "2024-07-06T21:34:58.693672Z",
     "start_time": "2024-07-06T21:34:58.225031Z"
    }
   },
   "source": [
    "import pandas as pd\n",
    "import numpy as np\n",
    "import matplotlib.pyplot as plt\n",
    "import seaborn as sns\n",
    "import sklearn.linear_model as slm\n",
    "import sklearn.metrics as sm"
   ],
   "outputs": [],
   "execution_count": 1
  },
  {
   "metadata": {
    "ExecuteTime": {
     "end_time": "2024-07-06T21:34:59.948294Z",
     "start_time": "2024-07-06T21:34:59.931787Z"
    }
   },
   "cell_type": "code",
   "source": "adv=pd.read_csv('Advertising.csv')",
   "id": "60ab0280cac033a7",
   "outputs": [],
   "execution_count": 2
  },
  {
   "metadata": {
    "ExecuteTime": {
     "end_time": "2024-07-06T21:35:04.043447Z",
     "start_time": "2024-07-06T21:35:04.025818Z"
    }
   },
   "cell_type": "code",
   "source": "adv.info()",
   "id": "58568d5325fafa6f",
   "outputs": [
    {
     "name": "stdout",
     "output_type": "stream",
     "text": [
      "<class 'pandas.core.frame.DataFrame'>\n",
      "RangeIndex: 200 entries, 0 to 199\n",
      "Data columns (total 5 columns):\n",
      " #   Column     Non-Null Count  Dtype  \n",
      "---  ------     --------------  -----  \n",
      " 0   ID         200 non-null    int64  \n",
      " 1   TV         200 non-null    float64\n",
      " 2   Radio      200 non-null    float64\n",
      " 3   Newspaper  200 non-null    float64\n",
      " 4   Sales      200 non-null    float64\n",
      "dtypes: float64(4), int64(1)\n",
      "memory usage: 7.9 KB\n"
     ]
    }
   ],
   "execution_count": 3
  },
  {
   "metadata": {
    "ExecuteTime": {
     "end_time": "2024-07-06T21:35:09.915252Z",
     "start_time": "2024-07-06T21:35:09.876035Z"
    }
   },
   "cell_type": "code",
   "source": "adv.describe()",
   "id": "1dd971ca9d55c44",
   "outputs": [
    {
     "data": {
      "text/plain": [
       "               ID          TV       Radio   Newspaper       Sales\n",
       "count  200.000000  200.000000  200.000000  200.000000  200.000000\n",
       "mean   100.500000  147.042500   23.264000   30.554000   14.022500\n",
       "std     57.879185   85.854236   14.846809   21.778621    5.217457\n",
       "min      1.000000    0.700000    0.000000    0.300000    1.600000\n",
       "25%     50.750000   74.375000    9.975000   12.750000   10.375000\n",
       "50%    100.500000  149.750000   22.900000   25.750000   12.900000\n",
       "75%    150.250000  218.825000   36.525000   45.100000   17.400000\n",
       "max    200.000000  296.400000   49.600000  114.000000   27.000000"
      ],
      "text/html": [
       "<div>\n",
       "<style scoped>\n",
       "    .dataframe tbody tr th:only-of-type {\n",
       "        vertical-align: middle;\n",
       "    }\n",
       "\n",
       "    .dataframe tbody tr th {\n",
       "        vertical-align: top;\n",
       "    }\n",
       "\n",
       "    .dataframe thead th {\n",
       "        text-align: right;\n",
       "    }\n",
       "</style>\n",
       "<table border=\"1\" class=\"dataframe\">\n",
       "  <thead>\n",
       "    <tr style=\"text-align: right;\">\n",
       "      <th></th>\n",
       "      <th>ID</th>\n",
       "      <th>TV</th>\n",
       "      <th>Radio</th>\n",
       "      <th>Newspaper</th>\n",
       "      <th>Sales</th>\n",
       "    </tr>\n",
       "  </thead>\n",
       "  <tbody>\n",
       "    <tr>\n",
       "      <th>count</th>\n",
       "      <td>200.000000</td>\n",
       "      <td>200.000000</td>\n",
       "      <td>200.000000</td>\n",
       "      <td>200.000000</td>\n",
       "      <td>200.000000</td>\n",
       "    </tr>\n",
       "    <tr>\n",
       "      <th>mean</th>\n",
       "      <td>100.500000</td>\n",
       "      <td>147.042500</td>\n",
       "      <td>23.264000</td>\n",
       "      <td>30.554000</td>\n",
       "      <td>14.022500</td>\n",
       "    </tr>\n",
       "    <tr>\n",
       "      <th>std</th>\n",
       "      <td>57.879185</td>\n",
       "      <td>85.854236</td>\n",
       "      <td>14.846809</td>\n",
       "      <td>21.778621</td>\n",
       "      <td>5.217457</td>\n",
       "    </tr>\n",
       "    <tr>\n",
       "      <th>min</th>\n",
       "      <td>1.000000</td>\n",
       "      <td>0.700000</td>\n",
       "      <td>0.000000</td>\n",
       "      <td>0.300000</td>\n",
       "      <td>1.600000</td>\n",
       "    </tr>\n",
       "    <tr>\n",
       "      <th>25%</th>\n",
       "      <td>50.750000</td>\n",
       "      <td>74.375000</td>\n",
       "      <td>9.975000</td>\n",
       "      <td>12.750000</td>\n",
       "      <td>10.375000</td>\n",
       "    </tr>\n",
       "    <tr>\n",
       "      <th>50%</th>\n",
       "      <td>100.500000</td>\n",
       "      <td>149.750000</td>\n",
       "      <td>22.900000</td>\n",
       "      <td>25.750000</td>\n",
       "      <td>12.900000</td>\n",
       "    </tr>\n",
       "    <tr>\n",
       "      <th>75%</th>\n",
       "      <td>150.250000</td>\n",
       "      <td>218.825000</td>\n",
       "      <td>36.525000</td>\n",
       "      <td>45.100000</td>\n",
       "      <td>17.400000</td>\n",
       "    </tr>\n",
       "    <tr>\n",
       "      <th>max</th>\n",
       "      <td>200.000000</td>\n",
       "      <td>296.400000</td>\n",
       "      <td>49.600000</td>\n",
       "      <td>114.000000</td>\n",
       "      <td>27.000000</td>\n",
       "    </tr>\n",
       "  </tbody>\n",
       "</table>\n",
       "</div>"
      ]
     },
     "execution_count": 4,
     "metadata": {},
     "output_type": "execute_result"
    }
   ],
   "execution_count": 4
  },
  {
   "metadata": {
    "ExecuteTime": {
     "end_time": "2024-07-06T21:35:39.864107Z",
     "start_time": "2024-07-06T21:35:39.847357Z"
    }
   },
   "cell_type": "code",
   "source": "adv.head()",
   "id": "e2fd973b599efd60",
   "outputs": [
    {
     "data": {
      "text/plain": [
       "   ID     TV  Radio  Newspaper  Sales\n",
       "0   1  230.1   37.8       69.2   22.1\n",
       "1   2   44.5   39.3       45.1   10.4\n",
       "2   3   17.2   45.9       69.3    9.3\n",
       "3   4  151.5   41.3       58.5   18.5\n",
       "4   5  180.8   10.8       58.4   12.9"
      ],
      "text/html": [
       "<div>\n",
       "<style scoped>\n",
       "    .dataframe tbody tr th:only-of-type {\n",
       "        vertical-align: middle;\n",
       "    }\n",
       "\n",
       "    .dataframe tbody tr th {\n",
       "        vertical-align: top;\n",
       "    }\n",
       "\n",
       "    .dataframe thead th {\n",
       "        text-align: right;\n",
       "    }\n",
       "</style>\n",
       "<table border=\"1\" class=\"dataframe\">\n",
       "  <thead>\n",
       "    <tr style=\"text-align: right;\">\n",
       "      <th></th>\n",
       "      <th>ID</th>\n",
       "      <th>TV</th>\n",
       "      <th>Radio</th>\n",
       "      <th>Newspaper</th>\n",
       "      <th>Sales</th>\n",
       "    </tr>\n",
       "  </thead>\n",
       "  <tbody>\n",
       "    <tr>\n",
       "      <th>0</th>\n",
       "      <td>1</td>\n",
       "      <td>230.1</td>\n",
       "      <td>37.8</td>\n",
       "      <td>69.2</td>\n",
       "      <td>22.1</td>\n",
       "    </tr>\n",
       "    <tr>\n",
       "      <th>1</th>\n",
       "      <td>2</td>\n",
       "      <td>44.5</td>\n",
       "      <td>39.3</td>\n",
       "      <td>45.1</td>\n",
       "      <td>10.4</td>\n",
       "    </tr>\n",
       "    <tr>\n",
       "      <th>2</th>\n",
       "      <td>3</td>\n",
       "      <td>17.2</td>\n",
       "      <td>45.9</td>\n",
       "      <td>69.3</td>\n",
       "      <td>9.3</td>\n",
       "    </tr>\n",
       "    <tr>\n",
       "      <th>3</th>\n",
       "      <td>4</td>\n",
       "      <td>151.5</td>\n",
       "      <td>41.3</td>\n",
       "      <td>58.5</td>\n",
       "      <td>18.5</td>\n",
       "    </tr>\n",
       "    <tr>\n",
       "      <th>4</th>\n",
       "      <td>5</td>\n",
       "      <td>180.8</td>\n",
       "      <td>10.8</td>\n",
       "      <td>58.4</td>\n",
       "      <td>12.9</td>\n",
       "    </tr>\n",
       "  </tbody>\n",
       "</table>\n",
       "</div>"
      ]
     },
     "execution_count": 6,
     "metadata": {},
     "output_type": "execute_result"
    }
   ],
   "execution_count": 6
  },
  {
   "metadata": {
    "ExecuteTime": {
     "end_time": "2024-07-06T21:42:50.353975Z",
     "start_time": "2024-07-06T21:42:50.020820Z"
    }
   },
   "cell_type": "code",
   "source": [
    "x=adv[\"TV\"].values.reshape(-1,1)\n",
    "y=adv[\"Sales\"]\n",
    "lr=slm.LinearRegression()\n",
    "reg=lr.fit(x,y)\n",
    "y_pred=reg.predict(x)\n",
    "print(\"r_square :\",reg.score(x,y))\n",
    "print(\"coefficients :\",reg.coef_)\n",
    "print(\"intercept :\",reg.intercept_)\n",
    "plt.figure(figsize=(10,6))\n",
    "plt.scatter(adv[\"TV\"],adv[\"Sales\"])\n",
    "plt.plot(adv[\"TV\"],y_pred)\n",
    "plt.xlabel(\"TV\")\n",
    "plt.ylabel(\"Sales\")"
   ],
   "id": "edd5ddbac3c5ad9d",
   "outputs": [
    {
     "name": "stdout",
     "output_type": "stream",
     "text": [
      "r_square : 0.611875050850071\n",
      "coefficients : [0.04753664]\n",
      "intercept : 7.032593549127693\n"
     ]
    },
    {
     "data": {
      "text/plain": [
       "Text(0, 0.5, 'Sales')"
      ]
     },
     "execution_count": 32,
     "metadata": {},
     "output_type": "execute_result"
    },
    {
     "data": {
      "text/plain": [
       "<Figure size 1000x600 with 1 Axes>"
      ],
      "image/png": "[encoded data removed]"
     },
     "metadata": {},
     "output_type": "display_data"
    }
   ],
   "execution_count": 32
  },
  {
   "metadata": {
    "ExecuteTime": {
     "end_time": "2024-07-06T21:44:19.358571Z",
     "start_time": "2024-07-06T21:44:19.096093Z"
    }
   },
   "cell_type": "code",
   "source": [
    "x=adv[\"Newspaper\"].values.reshape(-1,1)\n",
    "y=adv[\"Sales\"]\n",
    "lr=slm.LinearRegression()\n",
    "reg=lr.fit(x,y)\n",
    "y_pred=reg.predict(x)\n",
    "print(\"r_square :\",reg.score(x,y))\n",
    "print(\"coefficients :\",reg.coef_)\n",
    "print(\"intercept :\",reg.intercept_)\n",
    "plt.figure(figsize=(10,6))\n",
    "plt.scatter(adv[\"Newspaper\"],adv[\"Sales\"])\n",
    "plt.plot(adv[\"Newspaper\"],y_pred)\n",
    "plt.xlabel(\"Newspaper\")\n",
    "plt.ylabel(\"Sales\")"
   ],
   "id": "17a7a021a4c063e4",
   "outputs": [
    {
     "name": "stdout",
     "output_type": "stream",
     "text": [
      "r_square : 0.05212044544430516\n",
      "coefficients : [0.0546931]\n",
      "intercept : 12.35140706927816\n"
     ]
    },
    {
     "data": {
      "text/plain": [
       "Text(0, 0.5, 'Sales')"
      ]
     },
     "execution_count": 36,
     "metadata": {},
     "output_type": "execute_result"
    },
    {
     "data": {
      "text/plain": [
       "<Figure size 1000x600 with 1 Axes>"
      ],
      "image/png": "[encoded data removed]"
     },
     "metadata": {},
     "output_type": "display_data"
    }
   ],
   "execution_count": 36
  },
  {
   "metadata": {
    "ExecuteTime": {
     "end_time": "2024-07-06T21:44:22.049309Z",
     "start_time": "2024-07-06T21:44:21.806566Z"
    }
   },
   "cell_type": "code",
   "source": [
    "x=adv[\"Radio\"].values.reshape(-1,1)\n",
    "y=adv[\"Sales\"]\n",
    "lr=slm.LinearRegression()\n",
    "reg=lr.fit(x,y)\n",
    "y_pred=reg.predict(x)\n",
    "print(\"r_square :\",reg.score(x,y))\n",
    "print(\"coefficients :\",reg.coef_)\n",
    "print(\"intercept :\",reg.intercept_)\n",
    "plt.figure(figsize=(10,6))\n",
    "plt.scatter(adv[\"Radio\"],adv[\"Sales\"])\n",
    "plt.plot(adv[\"Radio\"],y_pred)\n",
    "plt.xlabel(\"Radio\")\n",
    "plt.ylabel(\"Sales\")"
   ],
   "id": "e40ffb7314e75c87",
   "outputs": [
    {
     "name": "stdout",
     "output_type": "stream",
     "text": [
      "r_square : 0.33203245544529525\n",
      "coefficients : [0.20249578]\n",
      "intercept : 9.311638095158283\n"
     ]
    },
    {
     "data": {
      "text/plain": [
       "Text(0, 0.5, 'Sales')"
      ]
     },
     "execution_count": 37,
     "metadata": {},
     "output_type": "execute_result"
    },
    {
     "data": {
      "text/plain": [
       "<Figure size 1000x600 with 1 Axes>"
      ],
      "image/png": "[encoded data removed]"
     },
     "metadata": {},
     "output_type": "display_data"
    }
   ],
   "execution_count": 37
  },
  {
   "metadata": {
    "ExecuteTime": {
     "end_time": "2024-07-06T21:49:56.566095Z",
     "start_time": "2024-07-06T21:49:56.556263Z"
    }
   },
   "cell_type": "code",
   "source": [
    "x = adv[['TV',\"Radio\"]]\n",
    "y = adv[\"Sales\"]\n",
    "lr = slm.LinearRegression()\n",
    "reg = lr.fit(x, y)\n",
    "y_pred = reg.predict(x)\n",
    "print(\"r_square :\", reg.score(x, y))\n",
    "print(\"coefficients :\", reg.coef_)\n",
    "print(\"intercept :\", reg.intercept_)"
   ],
   "id": "a1c92bfe45f64eb9",
   "outputs": [
    {
     "name": "stdout",
     "output_type": "stream",
     "text": [
      "r_square : 0.8971942610828956\n",
      "coefficients : [0.04575482 0.18799423]\n",
      "intercept : 2.9210999124051362\n"
     ]
    }
   ],
   "execution_count": 61
  },
  {
   "metadata": {
    "ExecuteTime": {
     "end_time": "2024-07-06T21:49:56.762162Z",
     "start_time": "2024-07-06T21:49:56.752491Z"
    }
   },
   "cell_type": "code",
   "source": [
    "x = adv[['TV',\"Newspaper\"]]\n",
    "y = adv[\"Sales\"]\n",
    "lr = slm.LinearRegression()\n",
    "reg = lr.fit(x, y)\n",
    "y_pred = reg.predict(x)\n",
    "print(\"r_square :\", reg.score(x, y))\n",
    "print(\"coefficients :\", reg.coef_)\n",
    "print(\"intercept :\", reg.intercept_)"
   ],
   "id": "f2aa8712db91c1fb",
   "outputs": [
    {
     "name": "stdout",
     "output_type": "stream",
     "text": [
      "r_square : 0.6458354938293271\n",
      "coefficients : [0.04690121 0.04421942]\n",
      "intercept : 5.774947967911631\n"
     ]
    }
   ],
   "execution_count": 62
  },
  {
   "metadata": {
    "ExecuteTime": {
     "end_time": "2024-07-06T21:50:00.985632Z",
     "start_time": "2024-07-06T21:50:00.973620Z"
    }
   },
   "cell_type": "code",
   "source": [
    "x = adv[['Radio',\"Newspaper\"]]\n",
    "y = adv[\"Sales\"]\n",
    "lr = slm.LinearRegression()\n",
    "reg = lr.fit(x, y)\n",
    "y_pred = reg.predict(x)\n",
    "print(\"r_square :\", reg.score(x, y))\n",
    "print(\"coefficients :\", reg.coef_)\n",
    "print(\"intercept :\", reg.intercept_)"
   ],
   "id": "3fc4c3b5711a0730",
   "outputs": [
    {
     "name": "stdout",
     "output_type": "stream",
     "text": [
      "r_square : 0.33270518395032256\n",
      "coefficients : [0.19904459 0.00664417]\n",
      "intercept : 9.18892045919656\n"
     ]
    }
   ],
   "execution_count": 63
  },
  {
   "metadata": {
    "ExecuteTime": {
     "end_time": "2024-07-06T21:50:04.359934Z",
     "start_time": "2024-07-06T21:50:04.348559Z"
    }
   },
   "cell_type": "code",
   "source": [
    "x = adv[['TV',\"Newspaper\",\"Radio\"]]\n",
    "y = adv[\"Sales\"]\n",
    "lr = slm.LinearRegression()\n",
    "reg = lr.fit(x, y)\n",
    "y_pred = reg.predict(x)\n",
    "print(\"r_square :\", reg.score(x, y))\n",
    "print(\"coefficients :\", reg.coef_)\n",
    "print(\"intercept :\", reg.intercept_)"
   ],
   "id": "8314a4278d974e1e",
   "outputs": [
    {
     "name": "stdout",
     "output_type": "stream",
     "text": [
      "r_square : 0.8972106381789522\n",
      "coefficients : [ 0.04576465 -0.00103749  0.18853002]\n",
      "intercept : 2.9388893694594103\n"
     ]
    }
   ],
   "execution_count": 64
  },
  {
   "metadata": {
    "ExecuteTime": {
     "end_time": "2024-07-06T21:51:11.561076Z",
     "start_time": "2024-07-06T21:51:11.544558Z"
    }
   },
   "cell_type": "code",
   "source": [
    "x = adv[['TV',\"Newspaper\",\"Radio\"]]\n",
    "y = adv[\"Sales\"]\n",
    "lr = slm.LinearRegression()\n",
    "reg = lr.fit(x, y)\n",
    "y_pred = reg.predict(x)\n",
    "print(\"r_square :\", reg.score(x, y))\n",
    "print(\"coefficients :\", reg.coef_)\n",
    "print(\"intercept :\", reg.intercept_)"
   ],
   "id": "6f18cb4b3b869eab",
   "outputs": [
    {
     "name": "stdout",
     "output_type": "stream",
     "text": [
      "r_square : 0.8972106381789522\n",
      "coefficients : [ 0.04576465 -0.00103749  0.18853002]\n",
      "intercept : 2.9388893694594103\n"
     ]
    }
   ],
   "execution_count": 71
  }
 ],
 "metadata": {
  "kernelspec": {
   "display_name": "Python 3",
   "language": "python",
   "name": "python3"
  },
  "language_info": {
   "codemirror_mode": {
    "name": "ipython",
    "version": 2
   },
   "file_extension": ".py",
   "mimetype": "text/x-python",
   "name": "python",
   "nbconvert_exporter": "python",
   "pygments_lexer": "ipython2",
   "version": "2.7.6"
  }
 },
 "nbformat": 4,
 "nbformat_minor": 5
}
