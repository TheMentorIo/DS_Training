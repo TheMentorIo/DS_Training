{
 "cells": [
  {
   "metadata": {},
   "cell_type": "markdown",
   "source": "<h1>The Validation Set Approach</h1>",
   "id": "79f796b8d5a18c7c"
  },
  {
   "cell_type": "code",
   "id": "initial_id",
   "metadata": {
    "collapsed": true,
    "ExecuteTime": {
     "end_time": "2024-07-04T19:52:10.948074Z",
     "start_time": "2024-07-04T19:52:10.943322Z"
    }
   },
   "source": [
    "import numpy as np\n",
    "import pandas as pd\n",
    "import matplotlib.pyplot as plt\n",
    "import seaborn as sns\n",
    "from sklearn.model_selection import train_test_split\n",
    "from sklearn.model_selection import cross_validate\n",
    "from sklearn.linear_model import LinearRegression\n",
    "import statsmodels.api as sm"
   ],
   "outputs": [],
   "execution_count": 92
  },
  {
   "metadata": {
    "ExecuteTime": {
     "end_time": "2024-07-04T19:22:25.978193Z",
     "start_time": "2024-07-04T19:22:25.969075Z"
    }
   },
   "cell_type": "code",
   "source": [
    "|auto = pd.read_csv('Auto.csv')\n",
    "auto.insert(0,\"intercept\",1)\n",
    "auto.columns"
   ],
   "id": "32e73ebb4c323ad6",
   "outputs": [
    {
     "data": {
      "text/plain": [
       "Index(['intercept', 'mpg', 'cylinders', 'displacement', 'horsepower', 'weight',\n",
       "       'acceleration', 'year', 'origin', 'name'],\n",
       "      dtype='object')"
      ]
     },
     "execution_count": 37,
     "metadata": {},
     "output_type": "execute_result"
    }
   ],
   "execution_count": 37
  },
  {
   "metadata": {
    "ExecuteTime": {
     "end_time": "2024-07-04T19:22:25.985720Z",
     "start_time": "2024-07-04T19:22:25.979222Z"
    }
   },
   "cell_type": "code",
   "source": "auto_train,auto_valid = train_test_split(auto,test_size=196,random_state=0)",
   "id": "3a14ba5c7be27af",
   "outputs": [],
   "execution_count": 38
  },
  {
   "metadata": {
    "ExecuteTime": {
     "end_time": "2024-07-04T19:23:00.719805Z",
     "start_time": "2024-07-04T19:23:00.617909Z"
    }
   },
   "cell_type": "code",
   "source": [
    "x_train=auto_train[[\"intercept\",\"horsepower\"]]\n",
    "y_train=auto_train[\"mpg\"]\n",
    "sm=sm.OLS(y_train,x_train)\n",
    "results=sm.fit()\n",
    "results.summary()"
   ],
   "id": "485838c8766a23a1",
   "outputs": [
    {
     "data": {
      "text/plain": [
       "<class 'statsmodels.iolib.summary.Summary'>\n",
       "\"\"\"\n",
       "                            OLS Regression Results                            \n",
       "==============================================================================\n",
       "Dep. Variable:                    mpg   R-squared:                       0.608\n",
       "Model:                            OLS   Adj. R-squared:                  0.606\n",
       "Method:                 Least Squares   F-statistic:                     300.4\n",
       "Date:                Thu, 04 Jul 2024   Prob (F-statistic):           2.83e-41\n",
       "Time:                        22:23:00   Log-Likelihood:                -590.83\n",
       "No. Observations:                 196   AIC:                             1186.\n",
       "Df Residuals:                     194   BIC:                             1192.\n",
       "Df Model:                           1                                         \n",
       "Covariance Type:            nonrobust                                         \n",
       "==============================================================================\n",
       "                 coef    std err          t      P>|t|      [0.025      0.975]\n",
       "------------------------------------------------------------------------------\n",
       "intercept     39.9055      1.009     39.537      0.000      37.915      41.896\n",
       "horsepower    -0.1563      0.009    -17.333      0.000      -0.174      -0.139\n",
       "==============================================================================\n",
       "Omnibus:                        7.263   Durbin-Watson:                   2.175\n",
       "Prob(Omnibus):                  0.026   Jarque-Bera (JB):                6.993\n",
       "Skew:                           0.440   Prob(JB):                       0.0303\n",
       "Kurtosis:                       3.286   Cond. No.                         319.\n",
       "==============================================================================\n",
       "\n",
       "Notes:\n",
       "[1] Standard Errors assume that the covariance matrix of the errors is correctly specified.\n",
       "\"\"\""
      ],
      "text/html": [
       "<table class=\"simpletable\">\n",
       "<caption>OLS Regression Results</caption>\n",
       "<tr>\n",
       "  <th>Dep. Variable:</th>           <td>mpg</td>       <th>  R-squared:         </th> <td>   0.608</td>\n",
       "</tr>\n",
       "<tr>\n",
       "  <th>Model:</th>                   <td>OLS</td>       <th>  Adj. R-squared:    </th> <td>   0.606</td>\n",
       "</tr>\n",
       "<tr>\n",
       "  <th>Method:</th>             <td>Least Squares</td>  <th>  F-statistic:       </th> <td>   300.4</td>\n",
       "</tr>\n",
       "<tr>\n",
       "  <th>Date:</th>             <td>Thu, 04 Jul 2024</td> <th>  Prob (F-statistic):</th> <td>2.83e-41</td>\n",
       "</tr>\n",
       "<tr>\n",
       "  <th>Time:</th>                 <td>22:23:00</td>     <th>  Log-Likelihood:    </th> <td> -590.83</td>\n",
       "</tr>\n",
       "<tr>\n",
       "  <th>No. Observations:</th>      <td>   196</td>      <th>  AIC:               </th> <td>   1186.</td>\n",
       "</tr>\n",
       "<tr>\n",
       "  <th>Df Residuals:</th>          <td>   194</td>      <th>  BIC:               </th> <td>   1192.</td>\n",
       "</tr>\n",
       "<tr>\n",
       "  <th>Df Model:</th>              <td>     1</td>      <th>                     </th>     <td> </td>   \n",
       "</tr>\n",
       "<tr>\n",
       "  <th>Covariance Type:</th>      <td>nonrobust</td>    <th>                     </th>     <td> </td>   \n",
       "</tr>\n",
       "</table>\n",
       "<table class=\"simpletable\">\n",
       "<tr>\n",
       "       <td></td>         <th>coef</th>     <th>std err</th>      <th>t</th>      <th>P>|t|</th>  <th>[0.025</th>    <th>0.975]</th>  \n",
       "</tr>\n",
       "<tr>\n",
       "  <th>intercept</th>  <td>   39.9055</td> <td>    1.009</td> <td>   39.537</td> <td> 0.000</td> <td>   37.915</td> <td>   41.896</td>\n",
       "</tr>\n",
       "<tr>\n",
       "  <th>horsepower</th> <td>   -0.1563</td> <td>    0.009</td> <td>  -17.333</td> <td> 0.000</td> <td>   -0.174</td> <td>   -0.139</td>\n",
       "</tr>\n",
       "</table>\n",
       "<table class=\"simpletable\">\n",
       "<tr>\n",
       "  <th>Omnibus:</th>       <td> 7.263</td> <th>  Durbin-Watson:     </th> <td>   2.175</td>\n",
       "</tr>\n",
       "<tr>\n",
       "  <th>Prob(Omnibus):</th> <td> 0.026</td> <th>  Jarque-Bera (JB):  </th> <td>   6.993</td>\n",
       "</tr>\n",
       "<tr>\n",
       "  <th>Skew:</th>          <td> 0.440</td> <th>  Prob(JB):          </th> <td>  0.0303</td>\n",
       "</tr>\n",
       "<tr>\n",
       "  <th>Kurtosis:</th>      <td> 3.286</td> <th>  Cond. No.          </th> <td>    319.</td>\n",
       "</tr>\n",
       "</table><br/><br/>Notes:<br/>[1] Standard Errors assume that the covariance matrix of the errors is correctly specified."
      ],
      "text/latex": "\\begin{center}\n\\begin{tabular}{lclc}\n\\toprule\n\\textbf{Dep. Variable:}    &       mpg        & \\textbf{  R-squared:         } &     0.608   \\\\\n\\textbf{Model:}            &       OLS        & \\textbf{  Adj. R-squared:    } &     0.606   \\\\\n\\textbf{Method:}           &  Least Squares   & \\textbf{  F-statistic:       } &     300.4   \\\\\n\\textbf{Date:}             & Thu, 04 Jul 2024 & \\textbf{  Prob (F-statistic):} &  2.83e-41   \\\\\n\\textbf{Time:}             &     22:23:00     & \\textbf{  Log-Likelihood:    } &   -590.83   \\\\\n\\textbf{No. Observations:} &         196      & \\textbf{  AIC:               } &     1186.   \\\\\n\\textbf{Df Residuals:}     &         194      & \\textbf{  BIC:               } &     1192.   \\\\\n\\textbf{Df Model:}         &           1      & \\textbf{                     } &             \\\\\n\\textbf{Covariance Type:}  &    nonrobust     & \\textbf{                     } &             \\\\\n\\bottomrule\n\\end{tabular}\n\\begin{tabular}{lcccccc}\n                    & \\textbf{coef} & \\textbf{std err} & \\textbf{t} & \\textbf{P$> |$t$|$} & \\textbf{[0.025} & \\textbf{0.975]}  \\\\\n\\midrule\n\\textbf{intercept}  &      39.9055  &        1.009     &    39.537  &         0.000        &       37.915    &       41.896     \\\\\n\\textbf{horsepower} &      -0.1563  &        0.009     &   -17.333  &         0.000        &       -0.174    &       -0.139     \\\\\n\\bottomrule\n\\end{tabular}\n\\begin{tabular}{lclc}\n\\textbf{Omnibus:}       &  7.263 & \\textbf{  Durbin-Watson:     } &    2.175  \\\\\n\\textbf{Prob(Omnibus):} &  0.026 & \\textbf{  Jarque-Bera (JB):  } &    6.993  \\\\\n\\textbf{Skew:}          &  0.440 & \\textbf{  Prob(JB):          } &   0.0303  \\\\\n\\textbf{Kurtosis:}      &  3.286 & \\textbf{  Cond. No.          } &     319.  \\\\\n\\bottomrule\n\\end{tabular}\n%\\caption{OLS Regression Results}\n\\end{center}\n\nNotes: \\newline\n [1] Standard Errors assume that the covariance matrix of the errors is correctly specified."
     },
     "execution_count": 41,
     "metadata": {},
     "output_type": "execute_result"
    }
   ],
   "execution_count": 41
  },
  {
   "metadata": {
    "ExecuteTime": {
     "end_time": "2024-07-04T19:24:00.442454Z",
     "start_time": "2024-07-04T19:24:00.434895Z"
    }
   },
   "cell_type": "code",
   "source": [
    "x_valid=auto_valid[[\"intercept\",\"horsepower\"]]\n",
    "y_valid=auto_valid[\"mpg\"]\n",
    "valid_pred = results.predict(x_valid)\n",
    "np.mean((valid_pred-y_valid)**2)"
   ],
   "id": "b6ffed2a5a006174",
   "outputs": [
    {
     "data": {
      "text/plain": [
       "23.61661706966988"
      ]
     },
     "execution_count": 42,
     "metadata": {},
     "output_type": "execute_result"
    }
   ],
   "execution_count": 42
  },
  {
   "metadata": {
    "ExecuteTime": {
     "end_time": "2024-07-04T20:02:43.343880Z",
     "start_time": "2024-07-04T20:02:43.331585Z"
    }
   },
   "cell_type": "code",
   "source": [
    "def evalMSE(data, poly,rand=0):\n",
    "    for i in range(1, poly + 1):\n",
    "        data[f\"horsepower^{i}\"] = data[\"horsepower\"] ** i\n",
    "\n",
    "    data_train, data_valid = train_test_split(data, test_size=196, random_state=rand)\n",
    "\n",
    "    f_train = data_train.drop(\"mpg\", axis=1)\n",
    "    h_train = data_train[\"mpg\"]\n",
    "    f_valid = data_valid.drop(\"mpg\", axis=1)\n",
    "    h_valid = data_valid[\"mpg\"]\n",
    "\n",
    "    # Fit the OLS model\n",
    "    model = sm.OLS(h_train, f_train).fit()\n",
    "\n",
    "    # Predict on validation set\n",
    "    fvalid_pred = model.predict(f_valid)\n",
    "\n",
    "    # Calculate mean squared error\n",
    "    mse = np.mean((fvalid_pred - h_valid) ** 2)\n",
    "    return mse"
   ],
   "id": "9e79a4e93b3e0db7",
   "outputs": [],
   "execution_count": 130
  },
  {
   "metadata": {
    "ExecuteTime": {
     "end_time": "2024-07-04T20:02:43.720675Z",
     "start_time": "2024-07-04T20:02:43.704590Z"
    }
   },
   "cell_type": "code",
   "source": [
    "l=auto[[\"intercept\",\"horsepower\",\"mpg\"]]\n",
    "evalMSE(l.copy(),2)"
   ],
   "id": "efb12e82b5ad811b",
   "outputs": [
    {
     "data": {
      "text/plain": [
       "18.76303134689772"
      ]
     },
     "execution_count": 131,
     "metadata": {},
     "output_type": "execute_result"
    }
   ],
   "execution_count": 131
  },
  {
   "metadata": {
    "ExecuteTime": {
     "end_time": "2024-07-04T20:02:44.267320Z",
     "start_time": "2024-07-04T20:02:44.010322Z"
    }
   },
   "cell_type": "code",
   "source": [
    "poly=10\n",
    "MSE = np.zeros(poly)\n",
    "for idx, degree in enumerate(range(1, poly+1)):\n",
    "    MSE[idx] = evalMSE(l.copy(),degree)\n",
    "plt.plot(np.arange(1,poly+1), MSE, marker='o')\n",
    "plt.xlabel('Polynomial Degree')\n",
    "plt.ylabel('Mean Squared Error')\n",
    "plt.title('MSE vs Polynomial Degree')\n",
    "plt.grid(True)"
   ],
   "id": "75675b0446167c10",
   "outputs": [
    {
     "data": {
      "text/plain": [
       "<Figure size 640x480 with 1 Axes>"
      ],
      "image/png": "[encoded data removed]"
     },
     "metadata": {},
     "output_type": "display_data"
    }
   ],
   "execution_count": 132
  },
  {
   "metadata": {},
   "cell_type": "markdown",
   "source": "    <h1>Cross-Validation</h1>",
   "id": "355a0c11839c3a4"
  },
  {
   "metadata": {
    "ExecuteTime": {
     "end_time": "2024-07-04T19:59:27.731587Z",
     "start_time": "2024-07-04T19:59:27.706325Z"
    }
   },
   "cell_type": "code",
   "source": [
    "x=auto[\"horsepower\"].values.reshape(-1,1)\n",
    "y=auto[\"mpg\"]\n",
    "lm=LinearRegression()\n",
    "cv_error= cross_validate(lm,x,y,cv=5)\n",
    "print(cv_error.keys())\n",
    "print(np.mean(cv_error['test_score']))"
   ],
   "id": "5f870af1e770494e",
   "outputs": [
    {
     "name": "stdout",
     "output_type": "stream",
     "text": [
      "dict_keys(['fit_time', 'score_time', 'test_score'])\n",
      "0.13540761510225147\n"
     ]
    }
   ],
   "execution_count": 122
  },
  {
   "metadata": {
    "ExecuteTime": {
     "end_time": "2024-07-04T20:02:26.485243Z",
     "start_time": "2024-07-04T20:02:26.480227Z"
    }
   },
   "cell_type": "code",
   "source": [
    "def evalCV(data, poly,cv):\n",
    "    for i in range(1, poly + 1):\n",
    "        data[f\"horsepower^{i}\"] = data[\"horsepower\"] ** i\n",
    "    X = data.drop(\"mpg\", axis=1)\n",
    "    Y = data[\"mpg\"]\n",
    "    cv_error = cross_validate(LinearRegression(),X,Y,cv=cv)\n",
    "    return np.mean(cv_error['test_score'])"
   ],
   "id": "c9226b2c60cdf2e1",
   "outputs": [],
   "execution_count": 127
  },
  {
   "metadata": {
    "ExecuteTime": {
     "end_time": "2024-07-04T20:02:34.668022Z",
     "start_time": "2024-07-04T20:02:34.167295Z"
    }
   },
   "cell_type": "code",
   "source": [
    "poly=10\n",
    "cv=5\n",
    "CV = np.zeros(poly)\n",
    "for idx, degree in enumerate(range(1, poly+1)):\n",
    "    CV[idx] = evalCV(l.copy(),degree,cv)\n",
    "plt.plot(np.arange(1,poly+1), CV, marker='o')\n",
    "plt.xlabel('Polynomial Degree')\n",
    "plt.ylabel('Mean Squared Error')\n",
    "plt.title('MSE vs Polynomial Degree')\n",
    "plt.grid(True)"
   ],
   "id": "ed1a840274024193",
   "outputs": [
    {
     "data": {
      "text/plain": [
       "<Figure size 640x480 with 1 Axes>"
      ],
      "image/png": "[encoded data removed]"
     },
     "metadata": {},
     "output_type": "display_data"
    }
   ],
   "execution_count": 129
  }
 ],
 "metadata": {
  "kernelspec": {
   "display_name": "Python 3",
   "language": "python",
   "name": "python3"
  },
  "language_info": {
   "codemirror_mode": {
    "name": "ipython",
    "version": 2
   },
   "file_extension": ".py",
   "mimetype": "text/x-python",
   "name": "python",
   "nbconvert_exporter": "python",
   "pygments_lexer": "ipython2",
   "version": "2.7.6"
  }
 },
 "nbformat": 4,
 "nbformat_minor": 5
}
