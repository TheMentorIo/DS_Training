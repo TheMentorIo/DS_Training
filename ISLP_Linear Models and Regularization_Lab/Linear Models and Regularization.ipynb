{
 "cells": [
  {
   "cell_type": "code",
   "id": "initial_id",
   "metadata": {
    "collapsed": true,
    "ExecuteTime": {
     "end_time": "2024-07-04T21:57:25.708638Z",
     "start_time": "2024-07-04T21:57:25.702861Z"
    }
   },
   "source": [
    "import numpy as np\n",
    "import pandas as pd\n",
    "from matplotlib.pyplot import subplots\n",
    "from statsmodels.api import OLS\n",
    "import sklearn.model_selection as skm\n",
    "import sklearn.linear_model as skl\n",
    "from sklearn.preprocessing import StandardScaler\n",
    "from functools import partial\n",
    "from sklearn.pipeline import Pipeline\n",
    "from sklearn.decomposition  import PCA \n",
    "from sklearn.cross_decomposition import PLSRegression\n",
    "from ISLP.models import (Stepwise ,sklearn_selected ,sklearn_selection_path)\n",
    "from sklearn.model_selection import cross_val_score\n",
    "from sklearn.metrics import mean_squared_error"
   ],
   "outputs": [],
   "execution_count": 156
  },
  {
   "metadata": {
    "ExecuteTime": {
     "end_time": "2024-07-04T21:39:36.786663Z",
     "start_time": "2024-07-04T21:39:36.769875Z"
    }
   },
   "cell_type": "code",
   "source": [
    "hitters = pd.read_csv('Hitters.csv')\n",
    "hitters.head()"
   ],
   "id": "40c023bdd1591601",
   "outputs": [
    {
     "data": {
      "text/plain": [
       "   AtBat  Hits  HmRun  Runs  RBI  Walks  Years  CAtBat  CHits  CHmRun  CRuns  \\\n",
       "0    293    66      1    30   29     14      1     293     66       1     30   \n",
       "1    315    81      7    24   38     39     14    3449    835      69    321   \n",
       "2    479   130     18    66   72     76      3    1624    457      63    224   \n",
       "3    496   141     20    65   78     37     11    5628   1575     225    828   \n",
       "4    321    87     10    39   42     30      2     396    101      12     48   \n",
       "\n",
       "   CRBI  CWalks League Division  PutOuts  Assists  Errors  Salary NewLeague  \n",
       "0    29      14      A        E      446       33      20     NaN         A  \n",
       "1   414     375      N        W      632       43      10   475.0         N  \n",
       "2   266     263      A        W      880       82      14   480.0         A  \n",
       "3   838     354      N        E      200       11       3   500.0         N  \n",
       "4    46      33      N        E      805       40       4    91.5         N  "
      ],
      "text/html": [
       "<div>\n",
       "<style scoped>\n",
       "    .dataframe tbody tr th:only-of-type {\n",
       "        vertical-align: middle;\n",
       "    }\n",
       "\n",
       "    .dataframe tbody tr th {\n",
       "        vertical-align: top;\n",
       "    }\n",
       "\n",
       "    .dataframe thead th {\n",
       "        text-align: right;\n",
       "    }\n",
       "</style>\n",
       "<table border=\"1\" class=\"dataframe\">\n",
       "  <thead>\n",
       "    <tr style=\"text-align: right;\">\n",
       "      <th></th>\n",
       "      <th>AtBat</th>\n",
       "      <th>Hits</th>\n",
       "      <th>HmRun</th>\n",
       "      <th>Runs</th>\n",
       "      <th>RBI</th>\n",
       "      <th>Walks</th>\n",
       "      <th>Years</th>\n",
       "      <th>CAtBat</th>\n",
       "      <th>CHits</th>\n",
       "      <th>CHmRun</th>\n",
       "      <th>CRuns</th>\n",
       "      <th>CRBI</th>\n",
       "      <th>CWalks</th>\n",
       "      <th>League</th>\n",
       "      <th>Division</th>\n",
       "      <th>PutOuts</th>\n",
       "      <th>Assists</th>\n",
       "      <th>Errors</th>\n",
       "      <th>Salary</th>\n",
       "      <th>NewLeague</th>\n",
       "    </tr>\n",
       "  </thead>\n",
       "  <tbody>\n",
       "    <tr>\n",
       "      <th>0</th>\n",
       "      <td>293</td>\n",
       "      <td>66</td>\n",
       "      <td>1</td>\n",
       "      <td>30</td>\n",
       "      <td>29</td>\n",
       "      <td>14</td>\n",
       "      <td>1</td>\n",
       "      <td>293</td>\n",
       "      <td>66</td>\n",
       "      <td>1</td>\n",
       "      <td>30</td>\n",
       "      <td>29</td>\n",
       "      <td>14</td>\n",
       "      <td>A</td>\n",
       "      <td>E</td>\n",
       "      <td>446</td>\n",
       "      <td>33</td>\n",
       "      <td>20</td>\n",
       "      <td>NaN</td>\n",
       "      <td>A</td>\n",
       "    </tr>\n",
       "    <tr>\n",
       "      <th>1</th>\n",
       "      <td>315</td>\n",
       "      <td>81</td>\n",
       "      <td>7</td>\n",
       "      <td>24</td>\n",
       "      <td>38</td>\n",
       "      <td>39</td>\n",
       "      <td>14</td>\n",
       "      <td>3449</td>\n",
       "      <td>835</td>\n",
       "      <td>69</td>\n",
       "      <td>321</td>\n",
       "      <td>414</td>\n",
       "      <td>375</td>\n",
       "      <td>N</td>\n",
       "      <td>W</td>\n",
       "      <td>632</td>\n",
       "      <td>43</td>\n",
       "      <td>10</td>\n",
       "      <td>475.0</td>\n",
       "      <td>N</td>\n",
       "    </tr>\n",
       "    <tr>\n",
       "      <th>2</th>\n",
       "      <td>479</td>\n",
       "      <td>130</td>\n",
       "      <td>18</td>\n",
       "      <td>66</td>\n",
       "      <td>72</td>\n",
       "      <td>76</td>\n",
       "      <td>3</td>\n",
       "      <td>1624</td>\n",
       "      <td>457</td>\n",
       "      <td>63</td>\n",
       "      <td>224</td>\n",
       "      <td>266</td>\n",
       "      <td>263</td>\n",
       "      <td>A</td>\n",
       "      <td>W</td>\n",
       "      <td>880</td>\n",
       "      <td>82</td>\n",
       "      <td>14</td>\n",
       "      <td>480.0</td>\n",
       "      <td>A</td>\n",
       "    </tr>\n",
       "    <tr>\n",
       "      <th>3</th>\n",
       "      <td>496</td>\n",
       "      <td>141</td>\n",
       "      <td>20</td>\n",
       "      <td>65</td>\n",
       "      <td>78</td>\n",
       "      <td>37</td>\n",
       "      <td>11</td>\n",
       "      <td>5628</td>\n",
       "      <td>1575</td>\n",
       "      <td>225</td>\n",
       "      <td>828</td>\n",
       "      <td>838</td>\n",
       "      <td>354</td>\n",
       "      <td>N</td>\n",
       "      <td>E</td>\n",
       "      <td>200</td>\n",
       "      <td>11</td>\n",
       "      <td>3</td>\n",
       "      <td>500.0</td>\n",
       "      <td>N</td>\n",
       "    </tr>\n",
       "    <tr>\n",
       "      <th>4</th>\n",
       "      <td>321</td>\n",
       "      <td>87</td>\n",
       "      <td>10</td>\n",
       "      <td>39</td>\n",
       "      <td>42</td>\n",
       "      <td>30</td>\n",
       "      <td>2</td>\n",
       "      <td>396</td>\n",
       "      <td>101</td>\n",
       "      <td>12</td>\n",
       "      <td>48</td>\n",
       "      <td>46</td>\n",
       "      <td>33</td>\n",
       "      <td>N</td>\n",
       "      <td>E</td>\n",
       "      <td>805</td>\n",
       "      <td>40</td>\n",
       "      <td>4</td>\n",
       "      <td>91.5</td>\n",
       "      <td>N</td>\n",
       "    </tr>\n",
       "  </tbody>\n",
       "</table>\n",
       "</div>"
      ]
     },
     "execution_count": 83,
     "metadata": {},
     "output_type": "execute_result"
    }
   ],
   "execution_count": 83
  },
  {
   "metadata": {
    "ExecuteTime": {
     "end_time": "2024-07-04T21:39:37.082118Z",
     "start_time": "2024-07-04T21:39:37.076125Z"
    }
   },
   "cell_type": "code",
   "source": "hitters[\"Salary\"].isna().sum()",
   "id": "3468e6d79bf648df",
   "outputs": [
    {
     "data": {
      "text/plain": [
       "59"
      ]
     },
     "execution_count": 84,
     "metadata": {},
     "output_type": "execute_result"
    }
   ],
   "execution_count": 84
  },
  {
   "metadata": {
    "ExecuteTime": {
     "end_time": "2024-07-04T21:39:37.297628Z",
     "start_time": "2024-07-04T21:39:37.290595Z"
    }
   },
   "cell_type": "code",
   "source": [
    "hitters = hitters.dropna();\n",
    "hitters.shape"
   ],
   "id": "5749d743b13b85e4",
   "outputs": [
    {
     "data": {
      "text/plain": [
       "(263, 20)"
      ]
     },
     "execution_count": 85,
     "metadata": {},
     "output_type": "execute_result"
    }
   ],
   "execution_count": 85
  },
  {
   "metadata": {
    "ExecuteTime": {
     "end_time": "2024-07-04T21:39:37.848637Z",
     "start_time": "2024-07-04T21:39:37.834712Z"
    }
   },
   "cell_type": "code",
   "source": [
    "def nCp(sigma2 , estimator , X, Y):\n",
    "    n, p = X.shape\n",
    "    Yhat = estimator.predict(X)\n",
    "    RSS = np.sum((Y - Yhat)**2)\n",
    "    return -(RSS + 2 * p * sigma2) / n\n",
    "hitters[\"NewLeague\"].replace(\"A\",1,inplace=True)\n",
    "hitters[\"NewLeague\"].replace(\"N\",0,inplace=True)\n",
    "hitters[\"League\"].replace(\"A\",1,inplace=True)\n",
    "hitters[\"League\"].replace(\"N\",0,inplace=True)\n",
    "hitters[\"Division\"].replace(\"E\",1,inplace=True)\n",
    "hitters[\"Division\"].replace(\"W\",0,inplace=True)\n",
    "hitters.info()"
   ],
   "id": "e907117f9a4a99f1",
   "outputs": [
    {
     "name": "stdout",
     "output_type": "stream",
     "text": [
      "<class 'pandas.core.frame.DataFrame'>\n",
      "Index: 263 entries, 1 to 321\n",
      "Data columns (total 20 columns):\n",
      " #   Column     Non-Null Count  Dtype  \n",
      "---  ------     --------------  -----  \n",
      " 0   AtBat      263 non-null    int64  \n",
      " 1   Hits       263 non-null    int64  \n",
      " 2   HmRun      263 non-null    int64  \n",
      " 3   Runs       263 non-null    int64  \n",
      " 4   RBI        263 non-null    int64  \n",
      " 5   Walks      263 non-null    int64  \n",
      " 6   Years      263 non-null    int64  \n",
      " 7   CAtBat     263 non-null    int64  \n",
      " 8   CHits      263 non-null    int64  \n",
      " 9   CHmRun     263 non-null    int64  \n",
      " 10  CRuns      263 non-null    int64  \n",
      " 11  CRBI       263 non-null    int64  \n",
      " 12  CWalks     263 non-null    int64  \n",
      " 13  League     263 non-null    int64  \n",
      " 14  Division   263 non-null    int64  \n",
      " 15  PutOuts    263 non-null    int64  \n",
      " 16  Assists    263 non-null    int64  \n",
      " 17  Errors     263 non-null    int64  \n",
      " 18  Salary     263 non-null    float64\n",
      " 19  NewLeague  263 non-null    int64  \n",
      "dtypes: float64(1), int64(19)\n",
      "memory usage: 43.1 KB\n"
     ]
    }
   ],
   "execution_count": 86
  },
  {
   "metadata": {
    "ExecuteTime": {
     "end_time": "2024-07-04T21:39:38.359793Z",
     "start_time": "2024-07-04T21:39:38.347075Z"
    }
   },
   "cell_type": "code",
   "source": [
    "x=hitters.drop('Salary',axis=1)\n",
    "y=hitters['Salary']\n",
    "sigma2=OLS(y,x).fit().scale\n",
    "sigma2"
   ],
   "id": "d3d2cd967bcafb7b",
   "outputs": [
    {
     "data": {
      "text/plain": [
       "99571.6261849196"
      ]
     },
     "execution_count": 87,
     "metadata": {},
     "output_type": "execute_result"
    }
   ],
   "execution_count": 87
  },
  {
   "metadata": {
    "ExecuteTime": {
     "end_time": "2024-07-04T21:39:38.652929Z",
     "start_time": "2024-07-04T21:39:38.648976Z"
    }
   },
   "cell_type": "code",
   "source": "neg_Cp = partial(nCp, sigma2)\n",
   "id": "4750b3ae6eac0069",
   "outputs": [],
   "execution_count": 88
  },
  {
   "metadata": {
    "ExecuteTime": {
     "end_time": "2024-07-04T21:57:29.058219Z",
     "start_time": "2024-07-04T21:57:29.050666Z"
    }
   },
   "cell_type": "code",
   "source": [
    "def calc_cp(y_true, y_pred, sigma_squared, p, n):\n",
    "    rss = np.sum((y_true - y_pred) ** 2)\n",
    "    cp = rss / sigma_squared + 2 * p - n\n",
    "    return cp\n",
    "\n",
    "def forward_stepwise_with_cp(x, y):\n",
    "    selected_features = []\n",
    "    remaining_features = list(x.columns)\n",
    "    best_cp = float('inf')\n",
    "    n = len(y)\n",
    "\n",
    "    # Estimate the full model to get sigma_squared\n",
    "    full_model = skl.LinearRegression().fit(x, y)\n",
    "    sigma_squared = mean_squared_error(y, full_model.predict(x))\n",
    "\n",
    "    while remaining_features:\n",
    "        best_feature = None\n",
    "        for feature in remaining_features:\n",
    "            features_to_try = selected_features + [feature]\n",
    "            model = skl.LinearRegression().fit(x[features_to_try], y)\n",
    "            y_pred = model.predict(x[features_to_try])\n",
    "            cp = calc_cp(y, y_pred, sigma_squared, len(features_to_try), n)\n",
    "            if cp < best_cp:\n",
    "                best_cp = cp\n",
    "                best_feature = feature\n",
    "\n",
    "        if best_feature is not None:\n",
    "            selected_features.append(best_feature)\n",
    "            remaining_features.remove(best_feature)\n",
    "        else:\n",
    "            break\n",
    "\n",
    "    return selected_features"
   ],
   "id": "70ba8b13c537e7b2",
   "outputs": [],
   "execution_count": 157
  },
  {
   "metadata": {
    "ExecuteTime": {
     "end_time": "2024-07-04T21:57:29.730938Z",
     "start_time": "2024-07-04T21:57:29.176471Z"
    }
   },
   "cell_type": "code",
   "source": [
    "HC = forward_stepwise_with_cp(x,y)\n",
    "HC"
   ],
   "id": "68f808d8f89717a5",
   "outputs": [
    {
     "data": {
      "text/plain": [
       "['CRBI',\n",
       " 'Hits',\n",
       " 'PutOuts',\n",
       " 'Division',\n",
       " 'AtBat',\n",
       " 'Walks',\n",
       " 'CWalks',\n",
       " 'CRuns',\n",
       " 'CAtBat',\n",
       " 'Assists']"
      ]
     },
     "execution_count": 158,
     "metadata": {},
     "output_type": "execute_result"
    }
   ],
   "execution_count": 158
  },
  {
   "metadata": {
    "ExecuteTime": {
     "end_time": "2024-07-04T21:57:03.349606Z",
     "start_time": "2024-07-04T21:57:03.346004Z"
    }
   },
   "cell_type": "code",
   "source": "",
   "id": "8c964fcac2898cb1",
   "outputs": [],
   "execution_count": 155
  },
  {
   "metadata": {
    "ExecuteTime": {
     "end_time": "2024-07-04T21:57:03.369655Z",
     "start_time": "2024-07-04T21:57:03.366187Z"
    }
   },
   "cell_type": "code",
   "source": "",
   "id": "f31251f41a8ed05d",
   "outputs": [],
   "execution_count": 155
  },
  {
   "metadata": {
    "ExecuteTime": {
     "end_time": "2024-07-04T21:57:03.438554Z",
     "start_time": "2024-07-04T21:57:03.435273Z"
    }
   },
   "cell_type": "code",
   "source": "",
   "id": "1250f52f8726a815",
   "outputs": [],
   "execution_count": 155
  },
  {
   "metadata": {
    "ExecuteTime": {
     "end_time": "2024-07-04T21:57:03.590381Z",
     "start_time": "2024-07-04T21:57:03.587377Z"
    }
   },
   "cell_type": "code",
   "source": "",
   "id": "95b40a4871e30acc",
   "outputs": [],
   "execution_count": 155
  },
  {
   "metadata": {},
   "cell_type": "code",
   "outputs": [],
   "execution_count": null,
   "source": "",
   "id": "208e96c4e1075b5a"
  }
 ],
 "metadata": {
  "kernelspec": {
   "display_name": "Python 3",
   "language": "python",
   "name": "python3"
  },
  "language_info": {
   "codemirror_mode": {
    "name": "ipython",
    "version": 2
   },
   "file_extension": ".py",
   "mimetype": "text/x-python",
   "name": "python",
   "nbconvert_exporter": "python",
   "pygments_lexer": "ipython2",
   "version": "2.7.6"
  }
 },
 "nbformat": 4,
 "nbformat_minor": 5
}
