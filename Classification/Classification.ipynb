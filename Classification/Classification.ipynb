{
 "cells": [
  {
   "cell_type": "code",
   "id": "initial_id",
   "metadata": {
    "collapsed": true,
    "ExecuteTime": {
     "end_time": "2024-07-07T03:24:23.601492Z",
     "start_time": "2024-07-07T03:24:23.596332Z"
    }
   },
   "source": [
    "import pandas as pd\n",
    "import numpy as np\n",
    "import matplotlib.pyplot as plt\n",
    "import seaborn as sns\n",
    "import sklearn.linear_model as slm\n",
    "import sklearn.metrics as sm\n",
    "import sklearn.model_selection as sms\n",
    "from sklearn.preprocessing import StandardScaler\n",
    "from sklearn.discriminant_analysis import LinearDiscriminantAnalysis as LDA, QuadraticDiscriminantAnalysis as QDA\n",
    "from sklearn.naive_bayes import GaussianNB"
   ],
   "outputs": [],
   "execution_count": 370
  },
  {
   "metadata": {
    "ExecuteTime": {
     "end_time": "2024-07-07T03:24:23.638651Z",
     "start_time": "2024-07-07T03:24:23.626430Z"
    }
   },
   "cell_type": "code",
   "source": "default = pd.read_csv(\"Default.csv\")",
   "id": "18f88cb8c2379b9c",
   "outputs": [],
   "execution_count": 371
  },
  {
   "metadata": {
    "ExecuteTime": {
     "end_time": "2024-07-07T03:24:23.687112Z",
     "start_time": "2024-07-07T03:24:23.678547Z"
    }
   },
   "cell_type": "code",
   "source": "default.info()",
   "id": "400a0eb922e56fe4",
   "outputs": [
    {
     "name": "stdout",
     "output_type": "stream",
     "text": [
      "<class 'pandas.core.frame.DataFrame'>\n",
      "RangeIndex: 10000 entries, 0 to 9999\n",
      "Data columns (total 4 columns):\n",
      " #   Column   Non-Null Count  Dtype  \n",
      "---  ------   --------------  -----  \n",
      " 0   default  10000 non-null  object \n",
      " 1   student  10000 non-null  object \n",
      " 2   balance  10000 non-null  float64\n",
      " 3   income   10000 non-null  float64\n",
      "dtypes: float64(2), object(2)\n",
      "memory usage: 312.6+ KB\n"
     ]
    }
   ],
   "execution_count": 372
  },
  {
   "metadata": {
    "ExecuteTime": {
     "end_time": "2024-07-07T03:24:23.718689Z",
     "start_time": "2024-07-07T03:24:23.710046Z"
    }
   },
   "cell_type": "code",
   "source": "default.head()",
   "id": "c630b7b0adaf3d6b",
   "outputs": [
    {
     "data": {
      "text/plain": [
       "  default student      balance        income\n",
       "0      No      No   729.526495  44361.625074\n",
       "1      No     Yes   817.180407  12106.134700\n",
       "2      No      No  1073.549164  31767.138947\n",
       "3      No      No   529.250605  35704.493935\n",
       "4      No      No   785.655883  38463.495879"
      ],
      "text/html": [
       "<div>\n",
       "<style scoped>\n",
       "    .dataframe tbody tr th:only-of-type {\n",
       "        vertical-align: middle;\n",
       "    }\n",
       "\n",
       "    .dataframe tbody tr th {\n",
       "        vertical-align: top;\n",
       "    }\n",
       "\n",
       "    .dataframe thead th {\n",
       "        text-align: right;\n",
       "    }\n",
       "</style>\n",
       "<table border=\"1\" class=\"dataframe\">\n",
       "  <thead>\n",
       "    <tr style=\"text-align: right;\">\n",
       "      <th></th>\n",
       "      <th>default</th>\n",
       "      <th>student</th>\n",
       "      <th>balance</th>\n",
       "      <th>income</th>\n",
       "    </tr>\n",
       "  </thead>\n",
       "  <tbody>\n",
       "    <tr>\n",
       "      <th>0</th>\n",
       "      <td>No</td>\n",
       "      <td>No</td>\n",
       "      <td>729.526495</td>\n",
       "      <td>44361.625074</td>\n",
       "    </tr>\n",
       "    <tr>\n",
       "      <th>1</th>\n",
       "      <td>No</td>\n",
       "      <td>Yes</td>\n",
       "      <td>817.180407</td>\n",
       "      <td>12106.134700</td>\n",
       "    </tr>\n",
       "    <tr>\n",
       "      <th>2</th>\n",
       "      <td>No</td>\n",
       "      <td>No</td>\n",
       "      <td>1073.549164</td>\n",
       "      <td>31767.138947</td>\n",
       "    </tr>\n",
       "    <tr>\n",
       "      <th>3</th>\n",
       "      <td>No</td>\n",
       "      <td>No</td>\n",
       "      <td>529.250605</td>\n",
       "      <td>35704.493935</td>\n",
       "    </tr>\n",
       "    <tr>\n",
       "      <th>4</th>\n",
       "      <td>No</td>\n",
       "      <td>No</td>\n",
       "      <td>785.655883</td>\n",
       "      <td>38463.495879</td>\n",
       "    </tr>\n",
       "  </tbody>\n",
       "</table>\n",
       "</div>"
      ]
     },
     "execution_count": 373,
     "metadata": {},
     "output_type": "execute_result"
    }
   ],
   "execution_count": 373
  },
  {
   "metadata": {
    "ExecuteTime": {
     "end_time": "2024-07-07T03:24:23.745417Z",
     "start_time": "2024-07-07T03:24:23.731657Z"
    }
   },
   "cell_type": "code",
   "source": "default.describe()",
   "id": "42c92192a64fb801",
   "outputs": [
    {
     "data": {
      "text/plain": [
       "            balance        income\n",
       "count  10000.000000  10000.000000\n",
       "mean     835.374886  33516.981876\n",
       "std      483.714985  13336.639563\n",
       "min        0.000000    771.967729\n",
       "25%      481.731105  21340.462903\n",
       "50%      823.636973  34552.644802\n",
       "75%     1166.308386  43807.729272\n",
       "max     2654.322576  73554.233495"
      ],
      "text/html": [
       "<div>\n",
       "<style scoped>\n",
       "    .dataframe tbody tr th:only-of-type {\n",
       "        vertical-align: middle;\n",
       "    }\n",
       "\n",
       "    .dataframe tbody tr th {\n",
       "        vertical-align: top;\n",
       "    }\n",
       "\n",
       "    .dataframe thead th {\n",
       "        text-align: right;\n",
       "    }\n",
       "</style>\n",
       "<table border=\"1\" class=\"dataframe\">\n",
       "  <thead>\n",
       "    <tr style=\"text-align: right;\">\n",
       "      <th></th>\n",
       "      <th>balance</th>\n",
       "      <th>income</th>\n",
       "    </tr>\n",
       "  </thead>\n",
       "  <tbody>\n",
       "    <tr>\n",
       "      <th>count</th>\n",
       "      <td>10000.000000</td>\n",
       "      <td>10000.000000</td>\n",
       "    </tr>\n",
       "    <tr>\n",
       "      <th>mean</th>\n",
       "      <td>835.374886</td>\n",
       "      <td>33516.981876</td>\n",
       "    </tr>\n",
       "    <tr>\n",
       "      <th>std</th>\n",
       "      <td>483.714985</td>\n",
       "      <td>13336.639563</td>\n",
       "    </tr>\n",
       "    <tr>\n",
       "      <th>min</th>\n",
       "      <td>0.000000</td>\n",
       "      <td>771.967729</td>\n",
       "    </tr>\n",
       "    <tr>\n",
       "      <th>25%</th>\n",
       "      <td>481.731105</td>\n",
       "      <td>21340.462903</td>\n",
       "    </tr>\n",
       "    <tr>\n",
       "      <th>50%</th>\n",
       "      <td>823.636973</td>\n",
       "      <td>34552.644802</td>\n",
       "    </tr>\n",
       "    <tr>\n",
       "      <th>75%</th>\n",
       "      <td>1166.308386</td>\n",
       "      <td>43807.729272</td>\n",
       "    </tr>\n",
       "    <tr>\n",
       "      <th>max</th>\n",
       "      <td>2654.322576</td>\n",
       "      <td>73554.233495</td>\n",
       "    </tr>\n",
       "  </tbody>\n",
       "</table>\n",
       "</div>"
      ]
     },
     "execution_count": 374,
     "metadata": {},
     "output_type": "execute_result"
    }
   ],
   "execution_count": 374
  },
  {
   "metadata": {
    "ExecuteTime": {
     "end_time": "2024-07-07T03:24:24.005711Z",
     "start_time": "2024-07-07T03:24:23.751405Z"
    }
   },
   "cell_type": "code",
   "source": "sns.boxplot(x=\"student\",y=\"balance\", data=default)",
   "id": "2a59f517982eca0b",
   "outputs": [
    {
     "data": {
      "text/plain": [
       "<Axes: xlabel='student', ylabel='balance'>"
      ]
     },
     "execution_count": 375,
     "metadata": {},
     "output_type": "execute_result"
    },
    {
     "data": {
      "text/plain": [
       "<Figure size 640x480 with 1 Axes>"
      ],
      "image/png": "[encoded data removed]"
     },
     "metadata": {},
     "output_type": "display_data"
    }
   ],
   "execution_count": 375
  },
  {
   "metadata": {
    "ExecuteTime": {
     "end_time": "2024-07-07T03:24:24.019695Z",
     "start_time": "2024-07-07T03:24:24.010702Z"
    }
   },
   "cell_type": "code",
   "source": "x_train,x_test,y_train,y_test = sms.train_test_split(default.drop(\"default\",axis=1),default[\"default\"],test_size=0.2)",
   "id": "e42198522b0bf5cf",
   "outputs": [],
   "execution_count": 376
  },
  {
   "metadata": {
    "ExecuteTime": {
     "end_time": "2024-07-07T03:24:24.081958Z",
     "start_time": "2024-07-07T03:24:24.045633Z"
    }
   },
   "cell_type": "code",
   "source": [
    "x_train[[\"balance\",\"income\"]] = StandardScaler().fit_transform(x_train[[\"balance\",\"income\"]])\n",
    "x_train[\"student\"]=pd.get_dummies(x_train[\"student\"],prefix=\"student\",drop_first=True)\n",
    "x_train"
   ],
   "id": "63a2f0e7e9626d28",
   "outputs": [
    {
     "data": {
      "text/plain": [
       "      student   balance    income\n",
       "7332     True  0.481423 -1.255308\n",
       "5067    False -1.248140  0.192691\n",
       "5723     True -0.122887 -1.373893\n",
       "3039    False -0.281011 -0.280455\n",
       "2304    False -0.184140  0.112707\n",
       "...       ...       ...       ...\n",
       "112     False -1.726285  1.057641\n",
       "2817    False  1.178187  0.455173\n",
       "6526     True -0.410609 -1.135333\n",
       "1967     True -0.085139 -0.911212\n",
       "9787     True -1.726285 -0.997203\n",
       "\n",
       "[8000 rows x 3 columns]"
      ],
      "text/html": [
       "<div>\n",
       "<style scoped>\n",
       "    .dataframe tbody tr th:only-of-type {\n",
       "        vertical-align: middle;\n",
       "    }\n",
       "\n",
       "    .dataframe tbody tr th {\n",
       "        vertical-align: top;\n",
       "    }\n",
       "\n",
       "    .dataframe thead th {\n",
       "        text-align: right;\n",
       "    }\n",
       "</style>\n",
       "<table border=\"1\" class=\"dataframe\">\n",
       "  <thead>\n",
       "    <tr style=\"text-align: right;\">\n",
       "      <th></th>\n",
       "      <th>student</th>\n",
       "      <th>balance</th>\n",
       "      <th>income</th>\n",
       "    </tr>\n",
       "  </thead>\n",
       "  <tbody>\n",
       "    <tr>\n",
       "      <th>7332</th>\n",
       "      <td>True</td>\n",
       "      <td>0.481423</td>\n",
       "      <td>-1.255308</td>\n",
       "    </tr>\n",
       "    <tr>\n",
       "      <th>5067</th>\n",
       "      <td>False</td>\n",
       "      <td>-1.248140</td>\n",
       "      <td>0.192691</td>\n",
       "    </tr>\n",
       "    <tr>\n",
       "      <th>5723</th>\n",
       "      <td>True</td>\n",
       "      <td>-0.122887</td>\n",
       "      <td>-1.373893</td>\n",
       "    </tr>\n",
       "    <tr>\n",
       "      <th>3039</th>\n",
       "      <td>False</td>\n",
       "      <td>-0.281011</td>\n",
       "      <td>-0.280455</td>\n",
       "    </tr>\n",
       "    <tr>\n",
       "      <th>2304</th>\n",
       "      <td>False</td>\n",
       "      <td>-0.184140</td>\n",
       "      <td>0.112707</td>\n",
       "    </tr>\n",
       "    <tr>\n",
       "      <th>...</th>\n",
       "      <td>...</td>\n",
       "      <td>...</td>\n",
       "      <td>...</td>\n",
       "    </tr>\n",
       "    <tr>\n",
       "      <th>112</th>\n",
       "      <td>False</td>\n",
       "      <td>-1.726285</td>\n",
       "      <td>1.057641</td>\n",
       "    </tr>\n",
       "    <tr>\n",
       "      <th>2817</th>\n",
       "      <td>False</td>\n",
       "      <td>1.178187</td>\n",
       "      <td>0.455173</td>\n",
       "    </tr>\n",
       "    <tr>\n",
       "      <th>6526</th>\n",
       "      <td>True</td>\n",
       "      <td>-0.410609</td>\n",
       "      <td>-1.135333</td>\n",
       "    </tr>\n",
       "    <tr>\n",
       "      <th>1967</th>\n",
       "      <td>True</td>\n",
       "      <td>-0.085139</td>\n",
       "      <td>-0.911212</td>\n",
       "    </tr>\n",
       "    <tr>\n",
       "      <th>9787</th>\n",
       "      <td>True</td>\n",
       "      <td>-1.726285</td>\n",
       "      <td>-0.997203</td>\n",
       "    </tr>\n",
       "  </tbody>\n",
       "</table>\n",
       "<p>8000 rows × 3 columns</p>\n",
       "</div>"
      ]
     },
     "execution_count": 377,
     "metadata": {},
     "output_type": "execute_result"
    }
   ],
   "execution_count": 377
  },
  {
   "metadata": {
    "ExecuteTime": {
     "end_time": "2024-07-07T03:24:24.117101Z",
     "start_time": "2024-07-07T03:24:24.084944Z"
    }
   },
   "cell_type": "code",
   "source": [
    "x_test[[\"balance\",\"income\"]] = StandardScaler().fit_transform(x_test[[\"balance\",\"income\"]])\n",
    "x_test[\"student\"]=pd.get_dummies(x_test[\"student\"],prefix=\"student\",drop_first=True)\n",
    "x_test"
   ],
   "id": "f1f71655591f3334",
   "outputs": [
    {
     "data": {
      "text/plain": [
       "      student   balance    income\n",
       "7352    False  1.873790  0.803028\n",
       "1799    False -1.538218  0.732284\n",
       "9033     True  1.514786 -1.395182\n",
       "578     False  1.413518  0.272063\n",
       "2570     True -0.053537 -1.182359\n",
       "...       ...       ...       ...\n",
       "2452    False -1.730504  0.613049\n",
       "4836    False  0.887893  0.656795\n",
       "3043    False  1.048805  0.068246\n",
       "3682     True -0.078348 -1.284915\n",
       "5912    False  0.744905  0.476270\n",
       "\n",
       "[2000 rows x 3 columns]"
      ],
      "text/html": [
       "<div>\n",
       "<style scoped>\n",
       "    .dataframe tbody tr th:only-of-type {\n",
       "        vertical-align: middle;\n",
       "    }\n",
       "\n",
       "    .dataframe tbody tr th {\n",
       "        vertical-align: top;\n",
       "    }\n",
       "\n",
       "    .dataframe thead th {\n",
       "        text-align: right;\n",
       "    }\n",
       "</style>\n",
       "<table border=\"1\" class=\"dataframe\">\n",
       "  <thead>\n",
       "    <tr style=\"text-align: right;\">\n",
       "      <th></th>\n",
       "      <th>student</th>\n",
       "      <th>balance</th>\n",
       "      <th>income</th>\n",
       "    </tr>\n",
       "  </thead>\n",
       "  <tbody>\n",
       "    <tr>\n",
       "      <th>7352</th>\n",
       "      <td>False</td>\n",
       "      <td>1.873790</td>\n",
       "      <td>0.803028</td>\n",
       "    </tr>\n",
       "    <tr>\n",
       "      <th>1799</th>\n",
       "      <td>False</td>\n",
       "      <td>-1.538218</td>\n",
       "      <td>0.732284</td>\n",
       "    </tr>\n",
       "    <tr>\n",
       "      <th>9033</th>\n",
       "      <td>True</td>\n",
       "      <td>1.514786</td>\n",
       "      <td>-1.395182</td>\n",
       "    </tr>\n",
       "    <tr>\n",
       "      <th>578</th>\n",
       "      <td>False</td>\n",
       "      <td>1.413518</td>\n",
       "      <td>0.272063</td>\n",
       "    </tr>\n",
       "    <tr>\n",
       "      <th>2570</th>\n",
       "      <td>True</td>\n",
       "      <td>-0.053537</td>\n",
       "      <td>-1.182359</td>\n",
       "    </tr>\n",
       "    <tr>\n",
       "      <th>...</th>\n",
       "      <td>...</td>\n",
       "      <td>...</td>\n",
       "      <td>...</td>\n",
       "    </tr>\n",
       "    <tr>\n",
       "      <th>2452</th>\n",
       "      <td>False</td>\n",
       "      <td>-1.730504</td>\n",
       "      <td>0.613049</td>\n",
       "    </tr>\n",
       "    <tr>\n",
       "      <th>4836</th>\n",
       "      <td>False</td>\n",
       "      <td>0.887893</td>\n",
       "      <td>0.656795</td>\n",
       "    </tr>\n",
       "    <tr>\n",
       "      <th>3043</th>\n",
       "      <td>False</td>\n",
       "      <td>1.048805</td>\n",
       "      <td>0.068246</td>\n",
       "    </tr>\n",
       "    <tr>\n",
       "      <th>3682</th>\n",
       "      <td>True</td>\n",
       "      <td>-0.078348</td>\n",
       "      <td>-1.284915</td>\n",
       "    </tr>\n",
       "    <tr>\n",
       "      <th>5912</th>\n",
       "      <td>False</td>\n",
       "      <td>0.744905</td>\n",
       "      <td>0.476270</td>\n",
       "    </tr>\n",
       "  </tbody>\n",
       "</table>\n",
       "<p>2000 rows × 3 columns</p>\n",
       "</div>"
      ]
     },
     "execution_count": 378,
     "metadata": {},
     "output_type": "execute_result"
    }
   ],
   "execution_count": 378
  },
  {
   "metadata": {
    "ExecuteTime": {
     "end_time": "2024-07-07T03:24:24.321549Z",
     "start_time": "2024-07-07T03:24:24.261722Z"
    }
   },
   "cell_type": "code",
   "source": [
    "reg=slm.LogisticRegression().fit(x_train,y_train)\n",
    "confusion_matrix = sm.confusion_matrix(y_test, reg.predict(x_test))\n",
    "\n",
    "TP = confusion_matrix[1, 1]\n",
    "FP = confusion_matrix[0, 1]\n",
    "TN = confusion_matrix[0, 0]\n",
    "FN = confusion_matrix[1, 0]\n",
    "\n",
    "total = TP + TN + FP + FN\n",
    "error_rate = (FP + FN) / total * 100\n",
    "accuracy = (TP + TN) / total * 100\n",
    "precision = TP / (TP + FP) * 100\n",
    "recall = TP / (TP + FN) * 100\n",
    "\n",
    "print(f\"Error Rate: {error_rate:.2f}%\")\n",
    "print(f\"Accuracy: {accuracy:.2f}%\")\n",
    "print(f\"Precision: {precision:.2f}%\")\n",
    "print(f\"Recall: {recall:.2f}%\")\n",
    "\n",
    "confusion_matrix = pd.DataFrame(confusion_matrix,index=[\"No\",\"Yes\"],columns=[\"No\",\"Yes\"]).transpose()\n",
    "\n",
    "confusion_matrix"
   ],
   "id": "5e5aa70deed2d1be",
   "outputs": [
    {
     "name": "stdout",
     "output_type": "stream",
     "text": [
      "Error Rate: 2.50%\n",
      "Accuracy: 97.50%\n",
      "Precision: 77.42%\n",
      "Recall: 35.82%\n"
     ]
    },
    {
     "data": {
      "text/plain": [
       "       No  Yes\n",
       "No   1926   43\n",
       "Yes     7   24"
      ],
      "text/html": [
       "<div>\n",
       "<style scoped>\n",
       "    .dataframe tbody tr th:only-of-type {\n",
       "        vertical-align: middle;\n",
       "    }\n",
       "\n",
       "    .dataframe tbody tr th {\n",
       "        vertical-align: top;\n",
       "    }\n",
       "\n",
       "    .dataframe thead th {\n",
       "        text-align: right;\n",
       "    }\n",
       "</style>\n",
       "<table border=\"1\" class=\"dataframe\">\n",
       "  <thead>\n",
       "    <tr style=\"text-align: right;\">\n",
       "      <th></th>\n",
       "      <th>No</th>\n",
       "      <th>Yes</th>\n",
       "    </tr>\n",
       "  </thead>\n",
       "  <tbody>\n",
       "    <tr>\n",
       "      <th>No</th>\n",
       "      <td>1926</td>\n",
       "      <td>43</td>\n",
       "    </tr>\n",
       "    <tr>\n",
       "      <th>Yes</th>\n",
       "      <td>7</td>\n",
       "      <td>24</td>\n",
       "    </tr>\n",
       "  </tbody>\n",
       "</table>\n",
       "</div>"
      ]
     },
     "execution_count": 379,
     "metadata": {},
     "output_type": "execute_result"
    }
   ],
   "execution_count": 379
  },
  {
   "metadata": {
    "ExecuteTime": {
     "end_time": "2024-07-07T03:24:24.402589Z",
     "start_time": "2024-07-07T03:24:24.325543Z"
    }
   },
   "cell_type": "code",
   "source": [
    "reg=LDA().fit(x_train,y_train)\n",
    "confusion_matrix = sm.confusion_matrix(y_test, reg.predict(x_test))\n",
    "\n",
    "TP = confusion_matrix[1, 1]\n",
    "FP = confusion_matrix[0, 1]\n",
    "TN = confusion_matrix[0, 0]\n",
    "FN = confusion_matrix[1, 0]\n",
    "\n",
    "\n",
    "\n",
    "total = TP + TN + FP + FN\n",
    "error_rate = (FP + FN) / total * 100\n",
    "accuracy = (TP + TN) / total * 100\n",
    "precision = TP / (TP + FP) * 100\n",
    "recall = TP / (TP + FN) * 100\n",
    "\n",
    "print(f\"Error Rate: {error_rate:.2f}%\")\n",
    "print(f\"Accuracy: {accuracy:.2f}%\")\n",
    "print(f\"Precision: {precision:.2f}%\")\n",
    "print(f\"Recall: {recall:.2f}%\")\n",
    "\n",
    "confusion_matrix = pd.DataFrame(confusion_matrix,index=[\"No\",\"Yes\"],columns=[\"No\",\"Yes\"]).transpose()\n",
    "print(confusion_matrix)\n",
    "\n",
    "threshold = 0.2\n",
    "probs = reg.predict_proba(x_test)\n",
    "predicted = (probs[:, 1] >= threshold).astype(int).astype(str)\n",
    "predicted[predicted == '0'] = \"No\"\n",
    "predicted[predicted == '1'] = \"Yes\"\n",
    "\n",
    "confusion_matrix = sm.confusion_matrix(y_test, predicted)\n",
    "\n",
    "TP = confusion_matrix[1, 1]\n",
    "FP = confusion_matrix[0, 1]\n",
    "TN = confusion_matrix[0, 0]\n",
    "FN = confusion_matrix[1, 0]\n",
    "\n",
    "confusion_matrix = pd.DataFrame(confusion_matrix,index=[\"No\",\"Yes\"],columns=[\"No\",\"Yes\"]).transpose()\n",
    "\n",
    "total = TP + TN + FP + FN\n",
    "error_rate = (FP + FN) / total * 100\n",
    "accuracy = (TP + TN) / total * 100\n",
    "precision = TP / (TP + FP) * 100\n",
    "recall = TP / (TP + FN) * 100\n",
    "\n",
    "print(\"\\n\")\n",
    "print(f\"Error Rate: {error_rate:.2f}%\")\n",
    "print(f\"Accuracy: {accuracy:.2f}%\")\n",
    "print(f\"Precision: {precision:.2f}%\")\n",
    "print(f\"Recall: {recall:.2f}%\")\n",
    "print(confusion_matrix)\n"
   ],
   "id": "e1e4f17dc893715f",
   "outputs": [
    {
     "name": "stdout",
     "output_type": "stream",
     "text": [
      "Error Rate: 2.50%\n",
      "Accuracy: 97.50%\n",
      "Precision: 90.48%\n",
      "Recall: 28.36%\n",
      "       No  Yes\n",
      "No   1931   48\n",
      "Yes     2   19\n",
      "\n",
      "\n",
      "Error Rate: 3.85%\n",
      "Accuracy: 96.15%\n",
      "Precision: 44.19%\n",
      "Recall: 56.72%\n",
      "       No  Yes\n",
      "No   1885   29\n",
      "Yes    48   38\n"
     ]
    }
   ],
   "execution_count": 380
  },
  {
   "metadata": {
    "ExecuteTime": {
     "end_time": "2024-07-07T03:24:24.961869Z",
     "start_time": "2024-07-07T03:24:24.431516Z"
    }
   },
   "cell_type": "code",
   "source": [
    "TPR = []\n",
    "FPR = []\n",
    "thresholds = np.linspace(0, 1, 11)\n",
    "\n",
    "for threshold in thresholds:\n",
    "    probs = reg.predict_proba(x_test)\n",
    "    predicted = (probs[:, 1] >= threshold).astype(int).astype(str)\n",
    "    predicted[predicted == '0'] = \"No\"\n",
    "    predicted[predicted == '1'] = \"Yes\"\n",
    "\n",
    "    confusion_matrix = sm.confusion_matrix(y_test, predicted)\n",
    "    \n",
    "    TP = confusion_matrix[1, 1]\n",
    "    FP = confusion_matrix[0, 1]\n",
    "    TN = confusion_matrix[0, 0]\n",
    "    FN = confusion_matrix[1, 0]\n",
    "\n",
    "    TPR.append(TP / (TP + FN))\n",
    "    FPR.append(FP / (FP + TN))\n",
    "\n",
    "\n",
    "print(thresholds)\n",
    "print(TPR)\n",
    "print(FPR)\n",
    "\n",
    "plt.figure()\n",
    "plt.scatter(FPR, TPR, marker='o', color='b')\n",
    "plt.plot([0, 1], [0, 1], linestyle='--', color='r')  # Plotting the diagonal line (random classifier)\n",
    "plt.title('ROC Curve')\n",
    "plt.xlabel('False Positive Rate (FPR)')\n",
    "plt.ylabel('True Positive Rate (TPR)')\n",
    "plt.xlim([0.0, 1.0])\n",
    "plt.ylim([0.0, 1.05])\n",
    "plt.grid(True)\n",
    "plt.show()\n"
   ],
   "id": "5cd28cfd0e251cf5",
   "outputs": [
    {
     "name": "stdout",
     "output_type": "stream",
     "text": [
      "[0.  0.1 0.2 0.3 0.4 0.5 0.6 0.7 0.8 0.9 1. ]\n",
      "[1.0, 0.7761194029850746, 0.5671641791044776, 0.40298507462686567, 0.373134328358209, 0.2835820895522388, 0.19402985074626866, 0.11940298507462686, 0.08955223880597014, 0.04477611940298507, 0.0]\n",
      "[1.0, 0.060527677185721676, 0.024831867563372995, 0.007242628039317123, 0.0036213140196585617, 0.0010346611484738748, 0.0010346611484738748, 0.0, 0.0, 0.0, 0.0]\n"
     ]
    },
    {
     "data": {
      "text/plain": [
       "<Figure size 640x480 with 1 Axes>"
      ],
      "image/png": "[encoded data removed]"
     },
     "metadata": {},
     "output_type": "display_data"
    }
   ],
   "execution_count": 381
  },
  {
   "metadata": {
    "ExecuteTime": {
     "end_time": "2024-07-07T03:24:25.032387Z",
     "start_time": "2024-07-07T03:24:24.965863Z"
    }
   },
   "cell_type": "code",
   "source": [
    "reg=QDA().fit(x_train,y_train)\n",
    "confusion_matrix = sm.confusion_matrix(y_test, reg.predict(x_test))\n",
    "\n",
    "TP = confusion_matrix[1, 1]\n",
    "FP = confusion_matrix[0, 1]\n",
    "TN = confusion_matrix[0, 0]\n",
    "FN = confusion_matrix[1, 0]\n",
    "\n",
    "\n",
    "total = TP + TN + FP + FN\n",
    "error_rate = (FP + FN) / total * 100\n",
    "accuracy = (TP + TN) / total * 100\n",
    "precision = TP / (TP + FP) * 100\n",
    "recall = TP / (TP + FN) * 100\n",
    "\n",
    "print(f\"Error Rate: {error_rate:.2f}%\")\n",
    "print(f\"Accuracy: {accuracy:.2f}%\")\n",
    "print(f\"Precision: {precision:.2f}%\")\n",
    "print(f\"Recall: {recall:.2f}%\")\n",
    "\n",
    "confusion_matrix = pd.DataFrame(confusion_matrix,index=[\"No\",\"Yes\"],columns=[\"No\",\"Yes\"]).transpose()\n",
    "\n",
    "confusion_matrix"
   ],
   "id": "e1c31ed9afaee95d",
   "outputs": [
    {
     "name": "stdout",
     "output_type": "stream",
     "text": [
      "Error Rate: 2.60%\n",
      "Accuracy: 97.40%\n",
      "Precision: 77.78%\n",
      "Recall: 31.34%\n"
     ]
    },
    {
     "data": {
      "text/plain": [
       "       No  Yes\n",
       "No   1927   46\n",
       "Yes     6   21"
      ],
      "text/html": [
       "<div>\n",
       "<style scoped>\n",
       "    .dataframe tbody tr th:only-of-type {\n",
       "        vertical-align: middle;\n",
       "    }\n",
       "\n",
       "    .dataframe tbody tr th {\n",
       "        vertical-align: top;\n",
       "    }\n",
       "\n",
       "    .dataframe thead th {\n",
       "        text-align: right;\n",
       "    }\n",
       "</style>\n",
       "<table border=\"1\" class=\"dataframe\">\n",
       "  <thead>\n",
       "    <tr style=\"text-align: right;\">\n",
       "      <th></th>\n",
       "      <th>No</th>\n",
       "      <th>Yes</th>\n",
       "    </tr>\n",
       "  </thead>\n",
       "  <tbody>\n",
       "    <tr>\n",
       "      <th>No</th>\n",
       "      <td>1927</td>\n",
       "      <td>46</td>\n",
       "    </tr>\n",
       "    <tr>\n",
       "      <th>Yes</th>\n",
       "      <td>6</td>\n",
       "      <td>21</td>\n",
       "    </tr>\n",
       "  </tbody>\n",
       "</table>\n",
       "</div>"
      ]
     },
     "execution_count": 382,
     "metadata": {},
     "output_type": "execute_result"
    }
   ],
   "execution_count": 382
  },
  {
   "metadata": {
    "ExecuteTime": {
     "end_time": "2024-07-07T03:24:25.100893Z",
     "start_time": "2024-07-07T03:24:25.035384Z"
    }
   },
   "cell_type": "code",
   "source": [
    "reg = GaussianNB().fit(x_train, y_train)\n",
    "confusion_matrix = sm.confusion_matrix(y_test, reg.predict(x_test))\n",
    "\n",
    "TP = confusion_matrix[1, 1]\n",
    "FP = confusion_matrix[0, 1]\n",
    "TN = confusion_matrix[0, 0]\n",
    "FN = confusion_matrix[1, 0]\n",
    "\n",
    "total = TP + TN + FP + FN\n",
    "error_rate = (FP + FN) / total * 100\n",
    "accuracy = (TP + TN) / total * 100\n",
    "precision = TP / (TP + FP) * 100\n",
    "recall = TP / (TP + FN) * 100\n",
    "\n",
    "print(f\"Error Rate: {error_rate:.2f}%\")\n",
    "print(f\"Accuracy: {accuracy:.2f}%\")\n",
    "print(f\"Precision: {precision:.2f}%\")\n",
    "print(f\"Recall: {recall:.2f}%\")\n",
    "\n",
    "confusion_matrix = pd.DataFrame(confusion_matrix,index=[\"No\",\"Yes\"],columns=[\"No\",\"Yes\"]).transpose()\n",
    "confusion_matrix"
   ],
   "id": "172fb1936d664a36",
   "outputs": [
    {
     "name": "stdout",
     "output_type": "stream",
     "text": [
      "Error Rate: 3.20%\n",
      "Accuracy: 96.80%\n",
      "Precision: 56.00%\n",
      "Recall: 20.90%\n"
     ]
    },
    {
     "data": {
      "text/plain": [
       "       No  Yes\n",
       "No   1922   53\n",
       "Yes    11   14"
      ],
      "text/html": [
       "<div>\n",
       "<style scoped>\n",
       "    .dataframe tbody tr th:only-of-type {\n",
       "        vertical-align: middle;\n",
       "    }\n",
       "\n",
       "    .dataframe tbody tr th {\n",
       "        vertical-align: top;\n",
       "    }\n",
       "\n",
       "    .dataframe thead th {\n",
       "        text-align: right;\n",
       "    }\n",
       "</style>\n",
       "<table border=\"1\" class=\"dataframe\">\n",
       "  <thead>\n",
       "    <tr style=\"text-align: right;\">\n",
       "      <th></th>\n",
       "      <th>No</th>\n",
       "      <th>Yes</th>\n",
       "    </tr>\n",
       "  </thead>\n",
       "  <tbody>\n",
       "    <tr>\n",
       "      <th>No</th>\n",
       "      <td>1922</td>\n",
       "      <td>53</td>\n",
       "    </tr>\n",
       "    <tr>\n",
       "      <th>Yes</th>\n",
       "      <td>11</td>\n",
       "      <td>14</td>\n",
       "    </tr>\n",
       "  </tbody>\n",
       "</table>\n",
       "</div>"
      ]
     },
     "execution_count": 383,
     "metadata": {},
     "output_type": "execute_result"
    }
   ],
   "execution_count": 383
  },
  {
   "metadata": {
    "ExecuteTime": {
     "end_time": "2024-07-07T03:24:25.108425Z",
     "start_time": "2024-07-07T03:24:25.103890Z"
    }
   },
   "cell_type": "code",
   "source": "",
   "id": "a1ecbda08384d0c7",
   "outputs": [],
   "execution_count": 383
  },
  {
   "metadata": {
    "ExecuteTime": {
     "end_time": "2024-07-07T03:24:25.117457Z",
     "start_time": "2024-07-07T03:24:25.113417Z"
    }
   },
   "cell_type": "code",
   "source": "",
   "id": "f117531f273819a3",
   "outputs": [],
   "execution_count": 383
  },
  {
   "metadata": {
    "ExecuteTime": {
     "end_time": "2024-07-07T03:24:25.123557Z",
     "start_time": "2024-07-07T03:24:25.119455Z"
    }
   },
   "cell_type": "code",
   "source": "",
   "id": "503c60920cf66d41",
   "outputs": [],
   "execution_count": 383
  }
 ],
 "metadata": {
  "kernelspec": {
   "display_name": "Python 3",
   "language": "python",
   "name": "python3"
  },
  "language_info": {
   "codemirror_mode": {
    "name": "ipython",
    "version": 2
   },
   "file_extension": ".py",
   "mimetype": "text/x-python",
   "name": "python",
   "nbconvert_exporter": "python",
   "pygments_lexer": "ipython2",
   "version": "2.7.6"
  }
 },
 "nbformat": 4,
 "nbformat_minor": 5
}
